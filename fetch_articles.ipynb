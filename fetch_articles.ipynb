{
 "cells": [
  {
   "cell_type": "code",
   "execution_count": 21,
   "metadata": {},
   "outputs": [
    {
     "name": "stderr",
     "output_type": "stream",
     "text": [
      "C:\\Users\\joona\\AppData\\Local\\Temp\\ipykernel_15132\\608407366.py:12: DeprecationWarning: executable_path has been deprecated, please pass in a Service object\n",
      "  driver = webdriver.Chrome(executable_path=\"chromedriver-win64/chromedriver.exe\",options=options)\n"
     ]
    }
   ],
   "source": [
    "from selenium import webdriver\n",
    "from bs4 import BeautifulSoup\n",
    "from selenium.webdriver.common.by import By\n",
    "from selenium.webdriver.support.ui import WebDriverWait\n",
    "from selenium.webdriver.support import expected_conditions as EC\n",
    "from time import sleep\n",
    "import re\n",
    "import requests\n",
    "\n",
    "options = webdriver.ChromeOptions()\n",
    "# Run Chrome in headless mode\n",
    "#options.add_argument('--headless')\n",
    "options.add_argument(\"--disable-search-engine-choice-screen\")\n",
    "# Create the driver (using Chrome)\n",
    "driver = webdriver.Chrome(executable_path=\"chromedriver-win64/chromedriver.exe\",options=options)\n",
    "\n",
    "# Access the site\n",
    "driver.get(\"https://www.hs.fi/politiikka/\")\n",
    "# Wait for the page to load\n",
    "driver.implicitly_wait(2)\n",
    "# Find and swtivh to the correct iframe\n",
    "iframe = driver.find_element(By.XPATH, '//iframe[@title=\"SP Consent Message\"]')\n",
    "driver.switch_to.frame(iframe)\n",
    "# Find button to conent to cookies\n",
    "button = WebDriverWait(driver, 20).until(\n",
    "    EC.element_to_be_clickable((By.XPATH, '//button[@title=\"OK\"]'))\n",
    ")\n",
    "# Click the said button\n",
    "button.click()\n",
    "# Scroll to the bottom to dynamically load everything\n",
    "driver.execute_script(\"window.scrollTo(0, document.body.scrollHeight);\")\n",
    "# Wait for the page to fully load\n",
    "sleep(5)"
   ]
  },
  {
   "cell_type": "code",
   "execution_count": 20,
   "metadata": {},
   "outputs": [
    {
     "name": "stdout",
     "output_type": "stream",
     "text": [
      "110 articles found\n"
     ]
    }
   ],
   "source": [
    "# Get HTML\n",
    "page_source = driver.page_source\n",
    "# Parse the page source with BeautifulSoup\n",
    "soup = BeautifulSoup(page_source, \"html.parser\")\n",
    "# Extract data using BeautifulSoup methods\n",
    "data_element = soup.find_all(\"a\",attrs={\"class\":\"block\"})\n",
    "print(len(data_element), \"articles found\")\n",
    "# Quit the driver\n",
    "driver.quit()"
   ]
  },
  {
   "cell_type": "code",
   "execution_count": 23,
   "metadata": {},
   "outputs": [],
   "source": [
    "a_list = []\n",
    "for article in data_element:\n",
    "    # Use regular expressions to extract the article numbers\n",
    "    item = re.findall(r\"([0-9]+).html\",str(article))[0]\n",
    "    a_list.append(item)"
   ]
  },
  {
   "cell_type": "code",
   "execution_count": 64,
   "metadata": {},
   "outputs": [],
   "source": [
    "# Save article numbers as a text file\n",
    "with open(\"article_numbers.txt\",\"w\") as file:\n",
    "    for item in a_list:\n",
    "        file.write(item+\"\\n\")"
   ]
  },
  {
   "cell_type": "code",
   "execution_count": 77,
   "metadata": {},
   "outputs": [],
   "source": [
    "json_list = []\n",
    "for article in a_list:\n",
    "    # Use the API to get comments from each of the article\n",
    "    url = f\"https://www.hs.fi/api/commenting/hs/articles/{article}/comments?sort=newest&onlyCommentsWithRealNames=false\"\n",
    "    comments = requests.get(url)\n",
    "    json_list.append(comments.json())"
   ]
  },
  {
   "cell_type": "code",
   "execution_count": 83,
   "metadata": {},
   "outputs": [],
   "source": [
    "# Save the comments as JSON\n",
    "with open(\"articles.json\",\"w\") as file:\n",
    "    for item in json_list:\n",
    "        file.write(str(item)+\"\\n\")"
   ]
  }
 ],
 "metadata": {
  "kernelspec": {
   "display_name": "project_data",
   "language": "python",
   "name": "python3"
  },
  "language_info": {
   "codemirror_mode": {
    "name": "ipython",
    "version": 3
   },
   "file_extension": ".py",
   "mimetype": "text/x-python",
   "name": "python",
   "nbconvert_exporter": "python",
   "pygments_lexer": "ipython3",
   "version": "3.12.4"
  }
 },
 "nbformat": 4,
 "nbformat_minor": 2
}
